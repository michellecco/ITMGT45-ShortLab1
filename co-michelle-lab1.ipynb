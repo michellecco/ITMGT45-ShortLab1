{
 "cells": [
  {
   "cell_type": "markdown",
   "metadata": {},
   "source": [
    "195705 CO 2 BS ITE"
   ]
  },
  {
   "cell_type": "markdown",
   "metadata": {},
   "source": [
    "## Problem 1\n",
    "Write a program that accepts an amount in US Dollars and converts to Philippine Pesos.\n",
    "\n",
    "The input prompts must be as follows:\n",
    "\n",
    "Enter the amount in US Dollars: \n",
    "\n",
    "The output should be as follows:\n",
    "\n",
    "[us dollar amount] US dollar(s) = [philippine peso amount] Philippine Pesos.\n",
    "\n",
    "You must define a function dollars_to_pesos which accepts the amount in US dollars and returns the amount in Philippine Pesos.\n",
    "\n",
    "Assume, for simplicity, that the conversion rate is PHP50 to USD 1."
   ]
  },
  {
   "cell_type": "code",
   "execution_count": 1,
   "metadata": {},
   "outputs": [],
   "source": [
    "def compute_dollars_to_pesos (d):\n",
    "    dollars_to_pesos = d * 50\n",
    "    return dollars_to_pesos"
   ]
  },
  {
   "cell_type": "code",
   "execution_count": 2,
   "metadata": {},
   "outputs": [
    {
     "name": "stdout",
     "output_type": "stream",
     "text": [
      "Enter the amount in US Dollars:20\n",
      "20US dollar(s)= 1000 Philippine Pesos\n"
     ]
    }
   ],
   "source": [
    "# ask for the amount in dollars\n",
    "d = int(input(\"Enter the amount in US Dollars:\"))\n",
    "\n",
    "# compute for the pesos equivalent\n",
    "dollars_to_pesos = compute_dollars_to_pesos (d)\n",
    "\n",
    "# display dollars to pesos\n",
    "print (str(d) + \"US dollar(s)=\", dollars_to_pesos, \"Philippine Pesos\")"
   ]
  },
  {
   "cell_type": "markdown",
   "metadata": {},
   "source": [
    "## Problem 2\n",
    "Write a program that accepts two positive integers, a and b, one per line.\n",
    "\n",
    "The output should be as follows:\n",
    "\n",
    "The first line should be the sum of a and b.\n",
    "\n",
    "The second line should be b subtracted from a.\n",
    "\n",
    "The third line should be the product of a and b.\n",
    "\n",
    "The fourth line should be the quotient when a is divided by b, excluding the remainder.\n",
    "\n",
    "The fifth line should be the remainder when a is divided by b."
   ]
  },
  {
   "cell_type": "code",
   "execution_count": 3,
   "metadata": {},
   "outputs": [
    {
     "name": "stdout",
     "output_type": "stream",
     "text": [
      "55\n",
      "3\n",
      "58\n",
      "52\n",
      "165\n",
      "18\n",
      "1\n"
     ]
    }
   ],
   "source": [
    "a = int(input( ))\n",
    "b = int(input( ))\n",
    "print (a+b)\n",
    "print (abs(b-a))\n",
    "print (a*b)\n",
    "print (int(a/b))\n",
    "print (a%b)"
   ]
  },
  {
   "cell_type": "markdown",
   "metadata": {},
   "source": [
    "## Problem 3\n",
    "Write a program that computes for your Body Mass Index (BMI). The formula for the BMI is as follows:\n",
    "\n",
    "BMI = kg/ m^2\n",
    "\n",
    "where kg is a person's weight in kilograms and m is height in meters.\n",
    "\n",
    "Define a function compute_bmi that accepts kg and m as parameters and returns the BMI.\n",
    "\n",
    "Be sure to convert cm to meters for the formula to work; write a function convert_cm_to_m which accepts a parameter cm and returns the meters. Feel free to Google the conversion.\n",
    "\n",
    "Make sure that the program prompts the user with Enter kg and Enter cm for kg and cm respectively.\n",
    "\n",
    "Your output should be in the form BMI: <computed bmi>"
   ]
  },
  {
   "cell_type": "code",
   "execution_count": 4,
   "metadata": {},
   "outputs": [],
   "source": [
    "def convert_cm_to_m (h):\n",
    "    x = h/100\n",
    "    return x\n",
    "\n",
    "def compute_bmi (w,x):\n",
    "    bmi = w / x**2\n",
    "    return bmi"
   ]
  },
  {
   "cell_type": "code",
   "execution_count": 5,
   "metadata": {},
   "outputs": [
    {
     "name": "stdout",
     "output_type": "stream",
     "text": [
      "Enter kg:65\n",
      "Enter cm:180\n",
      "BMI: 20.061728395061728\n"
     ]
    }
   ],
   "source": [
    "# ask for the weight\n",
    "w = int(input(\"Enter kg:\"))\n",
    "\n",
    "# ask for the height\n",
    "h = int(input(\"Enter cm:\"))\n",
    "\n",
    "# height in m\n",
    "x = convert_cm_to_m (h)\n",
    "\n",
    "# compute for BMI\n",
    "bmi = compute_bmi (w,x)\n",
    "\n",
    "# display BMI\n",
    "print (\"BMI:\", bmi)"
   ]
  },
  {
   "cell_type": "code",
   "execution_count": null,
   "metadata": {},
   "outputs": [],
   "source": []
  }
 ],
 "metadata": {
  "kernelspec": {
   "display_name": "Python 3",
   "language": "python",
   "name": "python3"
  },
  "language_info": {
   "codemirror_mode": {
    "name": "ipython",
    "version": 3
   },
   "file_extension": ".py",
   "mimetype": "text/x-python",
   "name": "python",
   "nbconvert_exporter": "python",
   "pygments_lexer": "ipython3",
   "version": "3.8.3"
  }
 },
 "nbformat": 4,
 "nbformat_minor": 4
}
